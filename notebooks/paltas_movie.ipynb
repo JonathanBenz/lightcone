{
 "cells": [
  {
   "cell_type": "markdown",
   "id": "5d29285c",
   "metadata": {},
   "source": [
    "# Paltas movie\n",
    "\n",
    "Paltas software: https://github.com/swagnercarena/paltas\n"
   ]
  },
  {
   "cell_type": "code",
   "execution_count": null,
   "id": "9b586bee",
   "metadata": {},
   "outputs": [],
   "source": [
    "import numpy as np\n",
    "import os\n",
    "import matplotlib.pyplot as plt\n",
    "from mpl_toolkits import mplot3d\n",
    "from mpl_toolkits.mplot3d import Axes3D\n",
    "#%matplotlib widget\n",
    "#%matplotlib inline\n",
    "%matplotlib notebook\n",
    "\n",
    "from lightcone.plot_3d import Plot3d\n",
    "from lightcone.animated import Animate\n",
    "from lenstronomy.Util import util\n"
   ]
  },
  {
   "cell_type": "code",
   "execution_count": null,
   "id": "6ff14151",
   "metadata": {},
   "outputs": [],
   "source": [
    "from lightcone.Util.image_util import import_galaxy\n",
    "\n",
    "kwargs_source, source_light_model_list = import_galaxy(galaxy_name='ngc1300', size=1)\n",
    "\n"
   ]
  },
  {
   "cell_type": "code",
   "execution_count": null,
   "id": "224e96ac",
   "metadata": {},
   "outputs": [],
   "source": [
    "import paltas\n",
    "\n",
    "from paltas.Configs.config_handler import ConfigHandler\n",
    "import lightcone\n",
    "root_path, _ = os.path.split(os.path.dirname(lightcone.__file__))\n",
    "print(root_path)\n",
    "\n",
    "# We'll pass one of our example Configs in\n",
    "config_handler = ConfigHandler(os.path.join(root_path,'Data/Paltas/config_visualization.py'))\n",
    "\n",
    "# First let's get the lenstronomy kwargs_model and kwargs_param\n",
    "kwargs_model, kwargs_param = config_handler.get_lenstronomy_models_kwargs()\n",
    "\n",
    "# We can see what keys are returned, and inspect the lens models in particular\n",
    "print('Available Keys:')\n",
    "print(kwargs_model.keys())\n",
    "print('')\n",
    "\n",
    "#kwargs_model['multi_plane'] = True\n",
    "#kwargs_model['z_source'] = kwargs_model['source_redshift_list'][0]\n",
    "kwargs_model['source_light_model_list'] = source_light_model_list\n",
    "\n",
    "print('lens_model_list')\n",
    "print(kwargs_model['source_light_model_list'])\n",
    "\n",
    "kwargs_lens = kwargs_param['kwargs_lens']"
   ]
  },
  {
   "cell_type": "code",
   "execution_count": null,
   "id": "bb6d9233",
   "metadata": {},
   "outputs": [],
   "source": [
    "\n",
    "\n",
    "n_z_bins = 400\n",
    "\n",
    "num_pix = 400\n",
    "delta_pix = 0.01\n",
    "\n",
    "\n",
    "\n",
    "# TODO coordinate grid from paltas\n",
    "ra_grid, dec_grid, ra_at_xy_0, dec_at_xy_0, x_at_radec_0, y_at_radec_0, Mpix2coord, Mcoord2pix = util.make_grid_with_coordtransform(num_pix, delta_pix, center_ra=0, center_dec=0, left_lower=False,\n",
    "                                   inverse=False)\n",
    "\n",
    "kwargs_pixel_grid = {'nx': num_pix, 'ny': num_pix, 'ra_at_xy_0': ra_at_xy_0, 'dec_at_xy_0': dec_at_xy_0, 'transform_pix2angle': Mpix2coord}\n",
    "\n",
    "\n",
    "plot3d = Plot3d(kwargs_model, kwargs_lens, kwargs_source, kwargs_pixel_grid, n_z_bins)"
   ]
  },
  {
   "cell_type": "code",
   "execution_count": null,
   "id": "2ad6e4d2",
   "metadata": {},
   "outputs": [],
   "source": [
    "\n",
    "\n",
    "angle1 = 10 \n",
    "angle2 = -100\n",
    "\n",
    "fig = plt.figure()\n",
    "plt.style.use('dark_background')\n",
    "plot3d.plot3d(fig=fig, angle1=angle1, angle2=angle2, n_ray=0, plot_source=True, plot_lens=True, plot_rays=True, alpha_lens=0.05)\n",
    "fig.tight_layout()\n",
    "fig.show()\n"
   ]
  },
  {
   "cell_type": "code",
   "execution_count": null,
   "id": "5917afea",
   "metadata": {},
   "outputs": [],
   "source": [
    "folder_path = '/Users/sibirrer/Science/Projects/LensModelling/Educational/Movies/'\n",
    "movie_name = 'test_paltas'\n",
    "\n",
    "kwargs_plot3d = {'kwargs_model': kwargs_model, 'kwargs_lens': kwargs_lens, \n",
    "                 'kwargs_source': kwargs_source, 'kwargs_pixel_grid': kwargs_pixel_grid, \n",
    "                 'n_z_bins': n_z_bins}\n",
    "\n",
    "\n",
    "animate = Animate(movie_name=movie_name, folder_path=folder_path, **kwargs_plot3d)\n",
    "\n",
    "\n",
    "angle1 = 10 \n",
    "angle2 = -100\n",
    "\n",
    "animate.ray_shooting(angle1, angle2)\n",
    "animate.rotate_to_front(angle1, angle2, n_rotate=n_z_bins)\n",
    "animate.mp4(fps=20)\n",
    "animate.gif()\n",
    "animate.finish()\n"
   ]
  },
  {
   "cell_type": "code",
   "execution_count": null,
   "id": "7d9587a2",
   "metadata": {},
   "outputs": [],
   "source": [
    "from IPython.display import Video\n",
    "\n",
    "movie_file = animate.movie_name()\n",
    "#folder_path + movie_name + \".mp4\"\n",
    "\n",
    "print(movie_file)\n",
    "\n",
    "Video(movie_file, embed=True)"
   ]
  },
  {
   "cell_type": "code",
   "execution_count": null,
   "id": "4a809087",
   "metadata": {},
   "outputs": [],
   "source": []
  }
 ],
 "metadata": {
  "kernelspec": {
   "display_name": "lightcone",
   "language": "python",
   "name": "lightcone"
  },
  "language_info": {
   "codemirror_mode": {
    "name": "ipython",
    "version": 3
   },
   "file_extension": ".py",
   "mimetype": "text/x-python",
   "name": "python",
   "nbconvert_exporter": "python",
   "pygments_lexer": "ipython3",
   "version": "3.9.7"
  }
 },
 "nbformat": 4,
 "nbformat_minor": 5
}
