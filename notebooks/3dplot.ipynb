{
 "cells": [
  {
   "cell_type": "code",
   "execution_count": null,
   "id": "9b586bee",
   "metadata": {},
   "outputs": [],
   "source": [
    "import numpy as np\n",
    "import matplotlib.pyplot as plt\n",
    "from mpl_toolkits import mplot3d\n",
    "from mpl_toolkits.mplot3d import Axes3D\n",
    "#%matplotlib widget\n",
    "#%matplotlib inline\n",
    "%matplotlib notebook\n",
    "\n",
    "from lightcone.plot_3d import Plot3d\n",
    "from lightcone.animate import Animate\n",
    "from lenstronomy.Util import util\n"
   ]
  },
  {
   "cell_type": "code",
   "execution_count": null,
   "id": "6ff14151",
   "metadata": {},
   "outputs": [],
   "source": [
    "from lightcone.Util.image_util import import_galaxy\n",
    "\n",
    "kwargs_source, source_light_model_list = import_galaxy(galaxy_name='ngc1300', size=1)"
   ]
  },
  {
   "cell_type": "code",
   "execution_count": null,
   "id": "bb6d9233",
   "metadata": {},
   "outputs": [],
   "source": [
    "n_z_bins = 100\n",
    "\n",
    "num_pix = 400\n",
    "delta_pix = 0.01\n",
    "\n",
    "\n",
    "kwargs_model = {'lens_model_list': ['SIE', 'SIE'],\n",
    "               'z_source': 1.5, 'lens_redshift_list': [0.5, 0.5],\n",
    "               'source_light_model_list': source_light_model_list}\n",
    "\n",
    "kwargs_lens = [{'theta_E': 1, 'e1': 0.1, 'e2': -0.1, 'center_x': 0, 'center_y': 0},\n",
    "              {'theta_E': 0.2, 'e1': -0.1, 'e2': 0.1, 'center_x': 0.5, 'center_y': 0}]\n",
    "#kwargs_source = [{'amp': 1, 'R_sersic': 0.2, 'n_sersic': 3, 'e1': 0.2, 'e2': -0.2, 'center_x': 0.1, 'center_y': 0}]\n",
    "\n",
    "ra_grid, dec_grid, ra_at_xy_0, dec_at_xy_0, x_at_radec_0, y_at_radec_0, Mpix2coord, Mcoord2pix = util.make_grid_with_coordtransform(num_pix, delta_pix, center_ra=0, center_dec=0, left_lower=False,\n",
    "                                   inverse=False)\n",
    "\n",
    "kwargs_pixel_grid = {'nx': num_pix, 'ny': num_pix, 'ra_at_xy_0': ra_at_xy_0, 'dec_at_xy_0': dec_at_xy_0, 'transform_pix2angle': Mpix2coord}\n",
    "\n",
    "\n",
    "plot3d = Plot3d(kwargs_model, kwargs_lens, kwargs_source, kwargs_pixel_grid, n_z_bins)"
   ]
  },
  {
   "cell_type": "code",
   "execution_count": null,
   "id": "2ad6e4d2",
   "metadata": {},
   "outputs": [],
   "source": [
    "angle1 = 10 \n",
    "angle2 = -100\n",
    "\n",
    "fig = plt.figure()\n",
    "plt.style.use('dark_background')\n",
    "plot3d.plot3d(fig=fig, angle1=angle1, angle2=angle2, n_ray=20, plot_source=True, plot_lens=True, plot_rays=True, alpha_lens=0.05)\n",
    "fig.tight_layout()\n",
    "fig.show()"
   ]
  },
  {
   "cell_type": "code",
   "execution_count": null,
   "id": "5917afea",
   "metadata": {},
   "outputs": [],
   "source": [
    "folder_path = '/Users/sibirrer/Science/Projects/LensModelling/Educational/Movies/'\n",
    "movie_name = 'test'\n",
    "\n",
    "kwargs_plot3d = {'kwargs_model': kwargs_model, 'kwargs_lens': kwargs_lens, \n",
    "                 'kwargs_source': kwargs_source, 'kwargs_pixel_grid': kwargs_pixel_grid, \n",
    "                 'n_z_bins': n_z_bins}\n",
    "\n",
    "animate = Animate(movie_name=movie_name, folder_path=folder_path, **kwargs_plot3d)\n",
    "\n",
    "\n",
    "angle1 = 10 \n",
    "angle2 = -100\n",
    "\n",
    "animate.ray_shooting(angle1, angle2)\n",
    "animate.rotate_to_front(angle1, angle2, n_rotate=n_z_bins)\n",
    "animate.mp4(fps=20)\n",
    "animate.gif()\n",
    "animate.finish()"
   ]
  },
  {
   "cell_type": "code",
   "execution_count": null,
   "id": "7d9587a2",
   "metadata": {
    "scrolled": false
   },
   "outputs": [],
   "source": [
    "from IPython.display import Video\n",
    "\n",
    "movie_file = animate.movie_name()\n",
    "#folder_path + movie_name + \".mp4\"\n",
    "\n",
    "Video(movie_file, embed=True)"
   ]
  },
  {
   "cell_type": "code",
   "execution_count": null,
   "id": "4a809087",
   "metadata": {},
   "outputs": [],
   "source": []
  }
 ],
 "metadata": {
  "kernelspec": {
   "display_name": "Python 3 (ipykernel)",
   "language": "python",
   "name": "python3"
  },
  "language_info": {
   "codemirror_mode": {
    "name": "ipython",
    "version": 3
   },
   "file_extension": ".py",
   "mimetype": "text/x-python",
   "name": "python",
   "nbconvert_exporter": "python",
   "pygments_lexer": "ipython3",
   "version": "3.10.10"
  }
 },
 "nbformat": 4,
 "nbformat_minor": 5
}
